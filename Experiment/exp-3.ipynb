{
 "cells": [
  {
   "cell_type": "markdown",
   "id": "f356d2ad",
   "metadata": {},
   "source": [
    "Q.3 Find the word frequency"
   ]
  },
  {
   "cell_type": "code",
   "execution_count": 19,
   "id": "a582289b",
   "metadata": {},
   "outputs": [
    {
     "name": "stderr",
     "output_type": "stream",
     "text": [
      "[nltk_data] Downloading package punkt to /home/vinayak/nltk_data...\n",
      "[nltk_data]   Package punkt is already up-to-date!\n",
      "[nltk_data] Downloading package stopwords to\n",
      "[nltk_data]     /home/vinayak/nltk_data...\n",
      "[nltk_data]   Package stopwords is already up-to-date!\n",
      "[nltk_data] Downloading package wordnet to /home/vinayak/nltk_data...\n",
      "[nltk_data]   Package wordnet is already up-to-date!\n"
     ]
    },
    {
     "data": {
      "text/plain": [
       "True"
      ]
     },
     "execution_count": 19,
     "metadata": {},
     "output_type": "execute_result"
    }
   ],
   "source": [
    "import nltk\n",
    "from nltk.corpus import stopwords\n",
    "from nltk.tokenize import word_tokenize\n",
    "from nltk.stem import WordNetLemmatizer\n",
    "from collections import Counter\n",
    "import re\n",
    "nltk.download('punkt')\n",
    "nltk.download('stopwords')\n",
    "nltk.download('wordnet')"
   ]
  },
  {
   "cell_type": "markdown",
   "id": "e6d9485f",
   "metadata": {},
   "source": [
    "Importing Libaries"
   ]
  },
  {
   "cell_type": "code",
   "execution_count": 20,
   "id": "274532ea",
   "metadata": {},
   "outputs": [],
   "source": [
    "text = \"\"\"\n",
    "Natural Language Processing (NLP) is a fascinating field of artificial intelligence. \n",
    "NLP helps computers to understand, interpret, and generate human language. \n",
    "The applications of NLP are widespread, from translation services to chatbots. \n",
    "Understanding language is the key.\n",
    "\"\"\""
   ]
  },
  {
   "cell_type": "markdown",
   "id": "a88e5ee6",
   "metadata": {},
   "source": [
    "Tokenizing and making everytext into lowercase"
   ]
  },
  {
   "cell_type": "code",
   "execution_count": 21,
   "id": "e033cd36",
   "metadata": {},
   "outputs": [],
   "source": [
    "tokens = word_tokenize(text.lower())"
   ]
  },
  {
   "cell_type": "markdown",
   "id": "9b2439b9",
   "metadata": {},
   "source": [
    "Removing puctuations and Fullstops"
   ]
  },
  {
   "cell_type": "code",
   "execution_count": 22,
   "id": "8ccdc9d2",
   "metadata": {},
   "outputs": [],
   "source": [
    "words = [word for word in tokens if word.isalpha()]\n",
    "stop_words = set(stopwords.words('english'))\n",
    "filtered_words = [word for word in words if word not in stop_words]"
   ]
  },
  {
   "cell_type": "markdown",
   "id": "424324c8",
   "metadata": {},
   "source": [
    "Lemmatizing the words \n",
    "\n",
    "Lemmatization is the process of reducing a word to its base or dictionary form, which is known as the lemma."
   ]
  },
  {
   "cell_type": "code",
   "execution_count": 23,
   "id": "3877b271",
   "metadata": {},
   "outputs": [],
   "source": [
    "lemmatizer = WordNetLemmatizer()\n",
    "lemmatized_words = [lemmatizer.lemmatize(word) for word in filtered_words]"
   ]
  },
  {
   "cell_type": "markdown",
   "id": "c2f729a5",
   "metadata": {},
   "source": [
    "Counting the no. of repreated word"
   ]
  },
  {
   "cell_type": "code",
   "execution_count": 24,
   "id": "f62cda2a",
   "metadata": {},
   "outputs": [],
   "source": [
    "word_counts = Counter(lemmatized_words)"
   ]
  },
  {
   "cell_type": "markdown",
   "id": "c6863648",
   "metadata": {},
   "source": [
    "Print Function"
   ]
  },
  {
   "cell_type": "code",
   "execution_count": 25,
   "id": "85f2b5fc",
   "metadata": {},
   "outputs": [
    {
     "name": "stdout",
     "output_type": "stream",
     "text": [
      "Word Frequencies:\n",
      "'language': 3\n",
      "'nlp': 3\n",
      "'natural': 1\n",
      "'processing': 1\n",
      "'fascinating': 1\n"
     ]
    }
   ],
   "source": [
    "print(\"Word Frequencies:\")\n",
    "for word, count in word_counts.most_common(5):\n",
    "    print(f\"'{word}': {count}\")"
   ]
  }
 ],
 "metadata": {
  "kernelspec": {
   "display_name": "venv",
   "language": "python",
   "name": "python3"
  },
  "language_info": {
   "codemirror_mode": {
    "name": "ipython",
    "version": 3
   },
   "file_extension": ".py",
   "mimetype": "text/x-python",
   "name": "python",
   "nbconvert_exporter": "python",
   "pygments_lexer": "ipython3",
   "version": "3.13.5"
  }
 },
 "nbformat": 4,
 "nbformat_minor": 5
}
