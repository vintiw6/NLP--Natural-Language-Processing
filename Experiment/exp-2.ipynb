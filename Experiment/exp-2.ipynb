{
 "cells": [
  {
   "cell_type": "markdown",
   "id": "fd0d0aab",
   "metadata": {},
   "source": [
    "Q2. Convert the text into tokens"
   ]
  },
  {
   "cell_type": "code",
   "execution_count": 11,
   "id": "6a8c3963",
   "metadata": {},
   "outputs": [],
   "source": [
    "sentence_1 = \"HHello, I am Vinayak Tiwari.\"\n",
    "sentence_2 = \"I study at CSVTU.\""
   ]
  },
  {
   "cell_type": "code",
   "execution_count": 12,
   "id": "45cefd56",
   "metadata": {},
   "outputs": [
    {
     "name": "stdout",
     "output_type": "stream",
     "text": [
      "Tokens in the sentence: ['HHello,', 'I', 'am', 'Vinayak', 'Tiwari.']\n",
      "Another token: ['I', ' ', 's', 't', 'u', 'd', 'y', ' ', 'a', 't', ' ', 'C', 'S', 'V', 'T', 'U', '.']\n"
     ]
    }
   ],
   "source": [
    "tokens = sentence_1.split()\n",
    "list = [char for char in sentence_2]\n",
    "\n",
    "print(\"Tokens in the sentence:\", tokens)\n",
    "print(\"Another token:\", list)"
   ]
  },
  {
   "cell_type": "markdown",
   "id": "f059d33c",
   "metadata": {},
   "source": [
    "## Using NLTK for tokenization"
   ]
  },
  {
   "cell_type": "code",
   "execution_count": 20,
   "id": "94263e72",
   "metadata": {},
   "outputs": [
    {
     "name": "stderr",
     "output_type": "stream",
     "text": [
      "[nltk_data] Downloading package punkt_tab to\n",
      "[nltk_data]     /home/vinayak/nltk_data...\n",
      "[nltk_data]   Unzipping tokenizers/punkt_tab.zip.\n"
     ]
    },
    {
     "data": {
      "text/plain": [
       "True"
      ]
     },
     "execution_count": 20,
     "metadata": {},
     "output_type": "execute_result"
    }
   ],
   "source": [
    "import nltk\n",
    "nltk.download('punkt_tab')"
   ]
  },
  {
   "cell_type": "code",
   "execution_count": null,
   "id": "48aa73b4",
   "metadata": {},
   "outputs": [
    {
     "name": "stdout",
     "output_type": "stream",
     "text": [
      "Tokenized sentences: ['NLTK is fantastic.', 'It helps with many NLP tasks.', 'You should try it!']\n"
     ]
    }
   ],
   "source": [
    "long_text = \"Hello, I am Vinayak Tiwari. I study at CSVTU.\"\n",
    "try:\n",
    "    import nltk\n",
    "    nltk.download('punkt', quiet=True)  \n",
    "    from nltk.tokenize import sent_tokenize\n",
    "    \n",
    "    sentences = sent_tokenize(long_text)\n",
    "    print(\"Tokenized sentences:\", sentences)\n",
    "except LookupError as e:\n",
    "    print(\"Error downloading NLTK data:\", e)\n",
    "    print(\"Please ensure you have an internet connection and try again.\")"
   ]
  },
  {
   "cell_type": "code",
   "execution_count": null,
   "id": "d957d482",
   "metadata": {},
   "outputs": [],
   "source": []
  }
 ],
 "metadata": {
  "kernelspec": {
   "display_name": "venv",
   "language": "python",
   "name": "python3"
  },
  "language_info": {
   "codemirror_mode": {
    "name": "ipython",
    "version": 3
   },
   "file_extension": ".py",
   "mimetype": "text/x-python",
   "name": "python",
   "nbconvert_exporter": "python",
   "pygments_lexer": "ipython3",
   "version": "3.13.5"
  }
 },
 "nbformat": 4,
 "nbformat_minor": 5
}
