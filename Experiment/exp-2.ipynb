{
 "cells": [
  {
   "cell_type": "markdown",
   "id": "fd0d0aab",
   "metadata": {},
   "source": [
    "Q2. Convert the text into tokens"
   ]
  },
  {
   "cell_type": "code",
   "execution_count": 11,
   "id": "6a8c3963",
   "metadata": {},
   "outputs": [],
   "source": [
    "sentence_1 = \"HHello, I am Vinayak Tiwari.\"\n",
    "sentence_2 = \"I study at CSVTU.\""
   ]
  },
  {
   "cell_type": "code",
   "execution_count": 12,
   "id": "45cefd56",
   "metadata": {},
   "outputs": [
    {
     "name": "stdout",
     "output_type": "stream",
     "text": [
      "Tokens in the sentence: ['HHello,', 'I', 'am', 'Vinayak', 'Tiwari.']\n",
      "Another token: ['I', ' ', 's', 't', 'u', 'd', 'y', ' ', 'a', 't', ' ', 'C', 'S', 'V', 'T', 'U', '.']\n"
     ]
    }
   ],
   "source": [
    "tokens = sentence_1.split()\n",
    "list = [char for char in sentence_2]\n",
    "\n",
    "print(\"Tokens in the sentence:\", tokens)\n",
    "print(\"Another token:\", list)"
   ]
  },
  {
   "cell_type": "markdown",
   "id": "f059d33c",
   "metadata": {},
   "source": [
    "## Using NLTK for tokenization"
   ]
  },
  {
   "cell_type": "code",
   "execution_count": 28,
   "id": "94263e72",
   "metadata": {},
   "outputs": [
    {
     "name": "stderr",
     "output_type": "stream",
     "text": [
      "[nltk_data] Downloading package punkt_tab to\n",
      "[nltk_data]     /home/vinayak/nltk_data...\n",
      "[nltk_data]   Package punkt_tab is already up-to-date!\n"
     ]
    },
    {
     "data": {
      "text/plain": [
       "True"
      ]
     },
     "execution_count": 28,
     "metadata": {},
     "output_type": "execute_result"
    }
   ],
   "source": [
    "import nltk\n",
    "nltk.download('punkt_tab')"
   ]
  },
  {
   "cell_type": "markdown",
   "id": "72996c92",
   "metadata": {},
   "source": [
    "Word Tokenization"
   ]
  },
  {
   "cell_type": "code",
   "execution_count": 29,
   "id": "d957d482",
   "metadata": {},
   "outputs": [
    {
     "name": "stdout",
     "output_type": "stream",
     "text": [
      "['Hello', ',', 'I', 'am', 'Vinayak', 'Tiwari', '.']\n"
     ]
    }
   ],
   "source": [
    "long_text = \"Hello, I am Vinayak Tiwari.\"\n",
    "try:\n",
    "    import nltk\n",
    "    nltk.download('punkt', quiet=True)\n",
    "    from nltk.tokenize import word_tokenize\n",
    "    \n",
    "    words = word_tokenize(long_text)\n",
    "    print(words)\n",
    "    \n",
    "except LookupError:\n",
    "    print(\"Error: NLTK 'punkt' model not found.\")"
   ]
  },
  {
   "cell_type": "markdown",
   "id": "383256e7",
   "metadata": {},
   "source": [
    "Sentence Tokenization"
   ]
  },
  {
   "cell_type": "code",
   "execution_count": 30,
   "id": "48aa73b4",
   "metadata": {},
   "outputs": [
    {
     "name": "stdout",
     "output_type": "stream",
     "text": [
      "Tokenized sentences: ['Hello, I am Vinayak Tiwari.', 'I study at CSVTU.']\n"
     ]
    }
   ],
   "source": [
    "long_text = \"Hello, I am Vinayak Tiwari. I study at CSVTU.\"\n",
    "try:\n",
    "    import nltk\n",
    "    nltk.download('punkt', quiet=True)  \n",
    "    from nltk.tokenize import sent_tokenize\n",
    "    \n",
    "    sentences = sent_tokenize(long_text)\n",
    "    print(\"Tokenized sentences:\", sentences)\n",
    "except LookupError as e:\n",
    "    print(\"Error downloading NLTK data:\", e)\n",
    "    print(\"Please ensure you have an internet connection and try again.\")"
   ]
  }
 ],
 "metadata": {
  "kernelspec": {
   "display_name": "venv",
   "language": "python",
   "name": "python3"
  },
  "language_info": {
   "codemirror_mode": {
    "name": "ipython",
    "version": 3
   },
   "file_extension": ".py",
   "mimetype": "text/x-python",
   "name": "python",
   "nbconvert_exporter": "python",
   "pygments_lexer": "ipython3",
   "version": "3.13.5"
  }
 },
 "nbformat": 4,
 "nbformat_minor": 5
}
