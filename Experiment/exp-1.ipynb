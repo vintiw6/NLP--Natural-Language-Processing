{
 "cells": [
  {
   "cell_type": "markdown",
   "id": "4d9202a1",
   "metadata": {},
   "source": [
    "Q1.  To design and implement a nlp based system that automatically detect and translate hindi natural language text within source into english language"
   ]
  },
  {
   "cell_type": "code",
   "execution_count": 4,
   "id": "905507bb",
   "metadata": {},
   "outputs": [],
   "source": [
    "import googletrans \n",
    "from googletrans import Translator"
   ]
  },
  {
   "cell_type": "markdown",
   "id": "6b2a8cac",
   "metadata": {},
   "source": [
    "Intialize Translator"
   ]
  },
  {
   "cell_type": "code",
   "execution_count": 5,
   "id": "396d14f8",
   "metadata": {},
   "outputs": [],
   "source": [
    "translator = Translator()"
   ]
  },
  {
   "cell_type": "markdown",
   "id": "b7ad6335",
   "metadata": {},
   "source": [
    "Enter the text to be translated"
   ]
  },
  {
   "cell_type": "code",
   "execution_count": 18,
   "id": "02d59d5f",
   "metadata": {},
   "outputs": [],
   "source": [
    "input_text = input(\"Enter the Text to be translated: \\n\")"
   ]
  },
  {
   "cell_type": "markdown",
   "id": "c7519e09",
   "metadata": {},
   "source": [
    "Translate Hindi to English & Print the translated text"
   ]
  },
  {
   "cell_type": "code",
   "execution_count": null,
   "id": "e5a56db7",
   "metadata": {},
   "outputs": [
    {
     "name": "stdout",
     "output_type": "stream",
     "text": [
      "\n",
      "--- Translation Results ---\n",
      "Original (Hindi): आप कैसे हैं?\\\n",
      "Translated (English): How are you?\\\n"
     ]
    }
   ],
   "source": [
    "try:\n",
    "    translated_object = await translator.translate(input_text, src=\"hi\", dest=\"en\")\n",
    "\n",
    "    print(\"\\n--- Translation Results ---\")\n",
    "    print(f\"Original (Hindi): {input_text}\")\n",
    "    print(f\"Translated (English): {translated_object.text}\")\n",
    "\n",
    "except Exception as e:\n",
    "    print(f\"An error occurred: {e}\")"
   ]
  }
 ],
 "metadata": {
  "kernelspec": {
   "display_name": "venv",
   "language": "python",
   "name": "python3"
  },
  "language_info": {
   "codemirror_mode": {
    "name": "ipython",
    "version": 3
   },
   "file_extension": ".py",
   "mimetype": "text/x-python",
   "name": "python",
   "nbconvert_exporter": "python",
   "pygments_lexer": "ipython3",
   "version": "3.13.5"
  }
 },
 "nbformat": 4,
 "nbformat_minor": 5
}
